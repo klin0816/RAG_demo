{
 "cells": [
  {
   "cell_type": "markdown",
   "id": "6e19f651-c0dc-4284-8e74-75b206eb933b",
   "metadata": {},
   "source": [
    "## PDF Loader"
   ]
  },
  {
   "cell_type": "code",
   "execution_count": 2,
   "id": "4634e4f4-6e9b-450c-b035-1dc801688237",
   "metadata": {},
   "outputs": [],
   "source": [
    "from langchain_community.document_loaders import PyPDFLoader\n",
    "from langchain_text_splitters import RecursiveCharacterTextSplitter"
   ]
  },
  {
   "cell_type": "code",
   "execution_count": 3,
   "id": "51e754e8-5f45-4a48-b781-8db6ea5adcc6",
   "metadata": {},
   "outputs": [
    {
     "data": {
      "text/plain": [
       "Document(metadata={'source': './teeth.pdf', 'page': 0}, page_content='周病\\n健康照護手冊\\n2019 年 1 月\\n本項經費係由衛生福利部菸害防制及衛生保健基金支應 衛生福利部委託臺北醫學大學口腔醫學院牙醫學系編印\\n衛生福利部\\nMinistry of Health and Welfare\\n臺北醫學大學口腔醫學院\\n牙醫學系\\n牙\\nࠦࠫɨʹ\\x12\\x12\\x1b\\x11\\x1a')"
      ]
     },
     "execution_count": 3,
     "metadata": {},
     "output_type": "execute_result"
    }
   ],
   "source": [
    "loader = PyPDFLoader(\"./teeth.pdf\")\n",
    "loader.load()[0]"
   ]
  },
  {
   "cell_type": "code",
   "execution_count": 4,
   "id": "88ec120a-8bd1-42bb-907b-afe7b32e3da6",
   "metadata": {},
   "outputs": [],
   "source": [
    "splitter = RecursiveCharacterTextSplitter(chunk_size = 512, chunk_overlap = 128)\n",
    "doc_split = loader.load_and_split(splitter)"
   ]
  },
  {
   "cell_type": "markdown",
   "id": "b2143f76-988b-4868-bbb2-62ae14dcec5e",
   "metadata": {},
   "source": [
    "## Embedding"
   ]
  },
  {
   "cell_type": "code",
   "execution_count": 5,
   "id": "569b07bb-ce38-45c7-a257-4468a9cbce3c",
   "metadata": {},
   "outputs": [],
   "source": [
    "from langchain_huggingface import HuggingFaceEmbeddings\n",
    "from langchain_community.vectorstores import Chroma"
   ]
  },
  {
   "cell_type": "code",
   "execution_count": 6,
   "id": "7e1e69b5-0891-4267-985d-ae61d9336fce",
   "metadata": {},
   "outputs": [
    {
     "name": "stderr",
     "output_type": "stream",
     "text": [
      "/Users/klin/git/rag/.venv/lib/python3.11/site-packages/tqdm/auto.py:21: TqdmWarning: IProgress not found. Please update jupyter and ipywidgets. See https://ipywidgets.readthedocs.io/en/stable/user_install.html\n",
      "  from .autonotebook import tqdm as notebook_tqdm\n"
     ]
    }
   ],
   "source": [
    "embeddings = HuggingFaceEmbeddings(model_name='all-MiniLM-L6-v2')"
   ]
  },
  {
   "cell_type": "code",
   "execution_count": 8,
   "id": "6ec3b244-9b67-4961-b08e-8924031e06ea",
   "metadata": {
    "scrolled": true
   },
   "outputs": [],
   "source": [
    "vectorstore = Chroma.from_documents(\n",
    "    documents=doc_split,\n",
    "    embedding=embeddings,\n",
    ")\n",
    "retriever = vectorstore.as_retriever()"
   ]
  },
  {
   "cell_type": "markdown",
   "id": "f462e38f-7262-454b-b95b-be72c4e10281",
   "metadata": {},
   "source": [
    "## OpenAI client"
   ]
  },
  {
   "cell_type": "code",
   "execution_count": 9,
   "id": "3ed3c410-09f0-46ae-9573-012719afe3ee",
   "metadata": {},
   "outputs": [],
   "source": [
    "import os\n",
    "from dotenv import load_dotenv \n",
    "\n",
    "from langchain_community.llms import OpenAI\n",
    "from langchain.prompts import PromptTemplate\n",
    "from langchain.chains import ConversationalRetrievalChain"
   ]
  },
  {
   "cell_type": "code",
   "execution_count": 10,
   "id": "8bf549e3-019e-47e1-8f3a-6dfde0f920de",
   "metadata": {},
   "outputs": [],
   "source": [
    "load_dotenv()"
   ]
  },
  {
   "cell_type": "code",
   "execution_count": 11,
   "id": "6cb2aefc-b369-4ab6-b764-63f7e9c4391e",
   "metadata": {},
   "outputs": [
    {
     "name": "stderr",
     "output_type": "stream",
     "text": [
      "/var/folders/ch/lpq22ds90kn4v5gvkqbbmmtw0000gn/T/ipykernel_55598/3028937250.py:1: LangChainDeprecationWarning: The class `OpenAI` was deprecated in LangChain 0.0.10 and will be removed in 1.0. An updated version of the class exists in the :class:`~langchain-openai package and should be used instead. To use it run `pip install -U :class:`~langchain-openai` and import as `from :class:`~langchain_openai import OpenAI``.\n",
      "  client = OpenAI(\n"
     ]
    }
   ],
   "source": [
    "client = OpenAI(\n",
    "    api_key=os.getenv(\"API_KEY\"),  # This is the default and can be omitted\n",
    ")"
   ]
  },
  {
   "cell_type": "code",
   "execution_count": 12,
   "id": "1a60fd28-174b-47cb-aabe-287454584169",
   "metadata": {},
   "outputs": [],
   "source": [
    "template = \"\"\"\n",
    "Question: {question}\n",
    "\n",
    "Answer:\n",
    "\"\"\"\n",
    "prompt = PromptTemplate.from_template(template)\n",
    "pdf_qa = ConversationalRetrievalChain.from_llm(\n",
    "    llm=client,\n",
    "    condense_question_prompt=prompt,\n",
    "    retriever=vectorstore.as_retriever(search_kwargs={'k': 2}),\n",
    "    return_source_documents=True,\n",
    "    verbose=False,\n",
    ")"
   ]
  },
  {
   "cell_type": "code",
   "execution_count": 13,
   "id": "3db058db-5c15-4c96-b474-078af972eaf2",
   "metadata": {},
   "outputs": [
    {
     "data": {
      "text/plain": [
       "{'question': '牙周病該怎麼治療? 解釋後並用英文回答',\n",
       " 'chat_history': [],\n",
       " 'answer': '\\n��周���的治���可以分���非手��治���和手��治�������。非手��治���包��口���清���及�����、支持性治���和自我�����。手��治�����包����周手��、���������手��和�����手��。治�����程中，定期回�����查和����也是��重要的一���。此外，����也能提高治���的成功率。��周���的治���需要�������人情��和�����建��，�����最��合的治���方式。The treatment for periodontal disease can be divided into non-surgical and surgical treatments. Non-surgical treatments include oral hygiene and maintenance, supportive therapy, and self-care. Surgical treatments include periodontal surgery, root',\n",
       " 'source_documents': [Document(metadata={'page': 14, 'source': './teeth.pdf'}, page_content='14\\n部位，增加治療效果。但文獻指出，目前並沒有確切的資料佐證何種\\n雷射對牙周治療最有效益，也沒有確切的研究佐證，使用雷射會有優\\n於傳統的牙周治療。所以民眾應在牙醫師的協助之下，選擇對自己最\\n適合的治療方法。\\n支持性治療\\n這是牙周病治療最重要的一環\\n24\\n。\\n病人每三個月到六個月的定期回診，檢查洗牙，並且記錄牙周囊\\n袋深度，可以確保治療的結果，並且倘若有復發的跡象，可以經由早\\n期發現而早期治療\\n24\\n。支持性的治療，包括牙醫專業的洗牙與牙周探\\n測紀錄。倘若在固定的回診中，發現復發或惡化的牙周囊袋，可以用\\n手術或其他方式回復牙周健康。 \\nD\\t牙周病自我照護\\n31,32,33\\n牙周病患者一定要遵守吃完飯後就刷牙的原則，且要定期做口腔\\n檢查與洗牙。牙周病就像高血壓、心臟病等慢性病，可以經由治療得\\n到很好的控制，患者要學習使用潔牙工具，並且定期回診由牙醫師做\\n檢視，需要時做支持性牙周治療，維持口腔健康。\\nE\\t口腔清潔及維護注意事項\\n牙周病是慢性病，可以在治療後，得到很好的控制，但是病人必\\n須仔細維護口腔清潔，才能維持治療效果。\\n充分利用潔牙工具（如下圖十六），例如：牙刷、牙線、牙縫刷，\\n以達到最好的潔牙效果。'),\n",
       "  Document(metadata={'page': 23, 'source': './teeth.pdf'}, page_content='23\\n抽菸患者與非抽菸患者，對牙周手術治療的反應差異，會持續在\\n日後的牙周追蹤治療中持續，所以戒菸可以提高手術治療的成功率。\\n在牙根分叉的患者中也發現，抽菸患者治療的穩定度，均不如非\\n抽菸患者與戒菸患者，抽菸患者進行再生手術後的治療反應，也不如\\n非抽菸患者。\\n在牙根覆蓋手術中也發現，抽菸患者牙根覆蓋手術的成功率，均\\n比非抽菸患者低。\\n植牙手術中也發現，抽菸者的植牙失敗率是非抽菸患者的兩倍。\\n所以如果病患要接受植牙治療，一定要考慮戒菸，降低植牙手術失敗\\n率。\\n戒菸的好處不僅可以讓牙周病遠離，讓牙周的治療成功率增加，\\n身體的許多疾病也會遠離。 \\n有關戒菸的相關資訊\\nhttp://tobacco.hpa.gov.tw\\n常見問題及釋疑：\\n問題 1：刷牙時，用牙刷與牙線的順序有差別嗎？要先用牙線，還\\n是先用牙刷，先後次序哪一種比較好？ \\n答案：\\n最新的研究發現\\n35\\n（Mazhari 2018）：先用牙線，再用牙刷可\\n以將較多的牙菌斑去除，而且牙膏中的氟化物，也更容易讓牙齒\\n吸收。在美國牙周病醫學會期刊中指出，在一群以牙醫系學生為\\n受試者的研究中發現，當受試者先用牙線兩分鐘，再搭配含氟牙')]}"
      ]
     },
     "execution_count": 13,
     "metadata": {},
     "output_type": "execute_result"
    }
   ],
   "source": [
    "result = pdf_qa.invoke(\n",
    "        {\"question\": \"牙周病該怎麼治療? 解釋後並用英文回答\", \"chat_history\": []})\n",
    "result"
   ]
  },
  {
   "cell_type": "code",
   "execution_count": null,
   "id": "89f4471f-e6d2-45a8-9ba4-22e007d138bd",
   "metadata": {},
   "outputs": [],
   "source": []
  }
 ],
 "metadata": {
  "kernelspec": {
   "display_name": "Python 3 (ipykernel)",
   "language": "python",
   "name": "python3"
  },
  "language_info": {
   "codemirror_mode": {
    "name": "ipython",
    "version": 3
   },
   "file_extension": ".py",
   "mimetype": "text/x-python",
   "name": "python",
   "nbconvert_exporter": "python",
   "pygments_lexer": "ipython3",
   "version": "3.11.4"
  }
 },
 "nbformat": 4,
 "nbformat_minor": 5
}
